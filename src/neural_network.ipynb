{
 "cells": [
  {
   "attachments": {},
   "cell_type": "markdown",
   "metadata": {},
   "source": [
    " # Neural Network to Predict RawIntD"
   ]
  },
  {
   "cell_type": "code",
   "execution_count": 1,
   "metadata": {},
   "outputs": [
    {
     "name": "stdout",
     "output_type": "stream",
     "text": [
      "Init Plugin\n",
      "Init Graph Optimizer\n",
      "Init Kernel\n"
     ]
    }
   ],
   "source": [
    "import numpy as np\n",
    "import pandas as pd\n",
    "from sklearn.preprocessing import StandardScaler\n",
    "from sklearn.model_selection import train_test_split\n",
    "from keras.models import Sequential\n",
    "from keras.layers import Dense"
   ]
  },
  {
   "attachments": {},
   "cell_type": "markdown",
   "metadata": {},
   "source": [
    "Import the data"
   ]
  },
  {
   "cell_type": "code",
   "execution_count": 43,
   "metadata": {},
   "outputs": [
    {
     "data": {
      "text/html": [
       "<div>\n",
       "<style scoped>\n",
       "    .dataframe tbody tr th:only-of-type {\n",
       "        vertical-align: middle;\n",
       "    }\n",
       "\n",
       "    .dataframe tbody tr th {\n",
       "        vertical-align: top;\n",
       "    }\n",
       "\n",
       "    .dataframe thead th {\n",
       "        text-align: right;\n",
       "    }\n",
       "</style>\n",
       "<table border=\"1\" class=\"dataframe\">\n",
       "  <thead>\n",
       "    <tr style=\"text-align: right;\">\n",
       "      <th></th>\n",
       "      <th>Date</th>\n",
       "      <th>GloveSizeGroup</th>\n",
       "      <th>GloveSize</th>\n",
       "      <th>RawIntD</th>\n",
       "      <th>LoadingWeight</th>\n",
       "      <th>ContactNumber</th>\n",
       "      <th>Surface</th>\n",
       "      <th>Gloves</th>\n",
       "      <th>Gender</th>\n",
       "      <th>ID</th>\n",
       "      <th>PowderArea</th>\n",
       "    </tr>\n",
       "  </thead>\n",
       "  <tbody>\n",
       "    <tr>\n",
       "      <th>0</th>\n",
       "      <td>05/07/2019</td>\n",
       "      <td>Medium</td>\n",
       "      <td>M</td>\n",
       "      <td>5896309</td>\n",
       "      <td>47.329800</td>\n",
       "      <td>1</td>\n",
       "      <td>Plastic</td>\n",
       "      <td>Y</td>\n",
       "      <td>Male</td>\n",
       "      <td>1</td>\n",
       "      <td>29.513</td>\n",
       "    </tr>\n",
       "    <tr>\n",
       "      <th>1</th>\n",
       "      <td>05/07/2019</td>\n",
       "      <td>Medium</td>\n",
       "      <td>M</td>\n",
       "      <td>4510793</td>\n",
       "      <td>271.252321</td>\n",
       "      <td>1</td>\n",
       "      <td>Cloth</td>\n",
       "      <td>Y</td>\n",
       "      <td>Male</td>\n",
       "      <td>1</td>\n",
       "      <td>60.898</td>\n",
       "    </tr>\n",
       "    <tr>\n",
       "      <th>2</th>\n",
       "      <td>05/07/2019</td>\n",
       "      <td>Medium</td>\n",
       "      <td>M</td>\n",
       "      <td>2865536</td>\n",
       "      <td>161.794500</td>\n",
       "      <td>1</td>\n",
       "      <td>Glass</td>\n",
       "      <td>Y</td>\n",
       "      <td>Male</td>\n",
       "      <td>1</td>\n",
       "      <td>56.828</td>\n",
       "    </tr>\n",
       "    <tr>\n",
       "      <th>3</th>\n",
       "      <td>05/07/2019</td>\n",
       "      <td>Medium</td>\n",
       "      <td>NaN</td>\n",
       "      <td>9695240</td>\n",
       "      <td>104.174400</td>\n",
       "      <td>1</td>\n",
       "      <td>Plastic</td>\n",
       "      <td>N</td>\n",
       "      <td>Male</td>\n",
       "      <td>1</td>\n",
       "      <td>78.440</td>\n",
       "    </tr>\n",
       "    <tr>\n",
       "      <th>4</th>\n",
       "      <td>05/07/2019</td>\n",
       "      <td>Medium</td>\n",
       "      <td>NaN</td>\n",
       "      <td>10471291</td>\n",
       "      <td>149.071000</td>\n",
       "      <td>1</td>\n",
       "      <td>Cloth</td>\n",
       "      <td>N</td>\n",
       "      <td>Male</td>\n",
       "      <td>1</td>\n",
       "      <td>86.345</td>\n",
       "    </tr>\n",
       "  </tbody>\n",
       "</table>\n",
       "</div>"
      ],
      "text/plain": [
       "         Date GloveSizeGroup GloveSize   RawIntD  LoadingWeight  \\\n",
       "0  05/07/2019         Medium         M   5896309      47.329800   \n",
       "1  05/07/2019         Medium         M   4510793     271.252321   \n",
       "2  05/07/2019         Medium         M   2865536     161.794500   \n",
       "3  05/07/2019         Medium       NaN   9695240     104.174400   \n",
       "4  05/07/2019         Medium       NaN  10471291     149.071000   \n",
       "\n",
       "   ContactNumber  Surface Gloves Gender  ID  PowderArea  \n",
       "0              1  Plastic      Y   Male   1      29.513  \n",
       "1              1    Cloth      Y   Male   1      60.898  \n",
       "2              1    Glass      Y   Male   1      56.828  \n",
       "3              1  Plastic      N   Male   1      78.440  \n",
       "4              1    Cloth      N   Male   1      86.345  "
      ]
     },
     "execution_count": 43,
     "metadata": {},
     "output_type": "execute_result"
    }
   ],
   "source": [
    "# Load the data\n",
    "data = pd.read_csv('../data/Yi.data.longformat.20191121_censoring_handled.csv', sep=',',header=0)\n",
    "\n",
    "data.head()"
   ]
  },
  {
   "cell_type": "code",
   "execution_count": 44,
   "metadata": {},
   "outputs": [],
   "source": [
    "# Drop the columns that are not needed: Date, GloveSizeGroup,GloveSize,ID and Gender\n",
    "data = data.drop(columns=[\"Date\",\"GloveSizeGroup\",\"GloveSize\",\"ID\",\"Gender\"])\n",
    "# Select the features and target\n",
    "X = data.drop(columns=[\"RawIntD\"])\n",
    "y = data[\"RawIntD\"]"
   ]
  },
  {
   "attachments": {},
   "cell_type": "markdown",
   "metadata": {},
   "source": [
    "Run One-Hot encoding for Surface and Gloves"
   ]
  },
  {
   "cell_type": "code",
   "execution_count": 45,
   "metadata": {},
   "outputs": [
    {
     "data": {
      "text/html": [
       "<div>\n",
       "<style scoped>\n",
       "    .dataframe tbody tr th:only-of-type {\n",
       "        vertical-align: middle;\n",
       "    }\n",
       "\n",
       "    .dataframe tbody tr th {\n",
       "        vertical-align: top;\n",
       "    }\n",
       "\n",
       "    .dataframe thead th {\n",
       "        text-align: right;\n",
       "    }\n",
       "</style>\n",
       "<table border=\"1\" class=\"dataframe\">\n",
       "  <thead>\n",
       "    <tr style=\"text-align: right;\">\n",
       "      <th></th>\n",
       "      <th>LoadingWeight</th>\n",
       "      <th>ContactNumber</th>\n",
       "      <th>PowderArea</th>\n",
       "      <th>Surface_Cloth</th>\n",
       "      <th>Surface_Glass</th>\n",
       "      <th>Surface_Plastic</th>\n",
       "      <th>Gloves_N</th>\n",
       "      <th>Gloves_Y</th>\n",
       "    </tr>\n",
       "  </thead>\n",
       "  <tbody>\n",
       "    <tr>\n",
       "      <th>0</th>\n",
       "      <td>47.329800</td>\n",
       "      <td>1</td>\n",
       "      <td>29.513</td>\n",
       "      <td>0</td>\n",
       "      <td>0</td>\n",
       "      <td>1</td>\n",
       "      <td>0</td>\n",
       "      <td>1</td>\n",
       "    </tr>\n",
       "    <tr>\n",
       "      <th>1</th>\n",
       "      <td>271.252321</td>\n",
       "      <td>1</td>\n",
       "      <td>60.898</td>\n",
       "      <td>1</td>\n",
       "      <td>0</td>\n",
       "      <td>0</td>\n",
       "      <td>0</td>\n",
       "      <td>1</td>\n",
       "    </tr>\n",
       "    <tr>\n",
       "      <th>2</th>\n",
       "      <td>161.794500</td>\n",
       "      <td>1</td>\n",
       "      <td>56.828</td>\n",
       "      <td>0</td>\n",
       "      <td>1</td>\n",
       "      <td>0</td>\n",
       "      <td>0</td>\n",
       "      <td>1</td>\n",
       "    </tr>\n",
       "    <tr>\n",
       "      <th>3</th>\n",
       "      <td>104.174400</td>\n",
       "      <td>1</td>\n",
       "      <td>78.440</td>\n",
       "      <td>0</td>\n",
       "      <td>0</td>\n",
       "      <td>1</td>\n",
       "      <td>1</td>\n",
       "      <td>0</td>\n",
       "    </tr>\n",
       "    <tr>\n",
       "      <th>4</th>\n",
       "      <td>149.071000</td>\n",
       "      <td>1</td>\n",
       "      <td>86.345</td>\n",
       "      <td>1</td>\n",
       "      <td>0</td>\n",
       "      <td>0</td>\n",
       "      <td>1</td>\n",
       "      <td>0</td>\n",
       "    </tr>\n",
       "  </tbody>\n",
       "</table>\n",
       "</div>"
      ],
      "text/plain": [
       "   LoadingWeight  ContactNumber  PowderArea  Surface_Cloth  Surface_Glass  \\\n",
       "0      47.329800              1      29.513              0              0   \n",
       "1     271.252321              1      60.898              1              0   \n",
       "2     161.794500              1      56.828              0              1   \n",
       "3     104.174400              1      78.440              0              0   \n",
       "4     149.071000              1      86.345              1              0   \n",
       "\n",
       "   Surface_Plastic  Gloves_N  Gloves_Y  \n",
       "0                1         0         1  \n",
       "1                0         0         1  \n",
       "2                0         0         1  \n",
       "3                1         1         0  \n",
       "4                0         1         0  "
      ]
     },
     "execution_count": 45,
     "metadata": {},
     "output_type": "execute_result"
    }
   ],
   "source": [
    "# One-hot encode the data using pandas get_dummies\n",
    "X = pd.get_dummies(X)\n",
    "X.head()"
   ]
  },
  {
   "cell_type": "code",
   "execution_count": 66,
   "metadata": {},
   "outputs": [],
   "source": [
    "# Preprocess the data\n",
    "scaler = StandardScaler()\n",
    "X = scaler.fit_transform(X)\n",
    "\n",
    "# Split the data into training and test sets\n",
    "X_train, X_test, y_train, y_test = train_test_split(X, y, test_size=0.2, random_state=1)"
   ]
  },
  {
   "attachments": {},
   "cell_type": "markdown",
   "metadata": {},
   "source": [
    "Normalise the y data"
   ]
  },
  {
   "cell_type": "code",
   "execution_count": 25,
   "metadata": {},
   "outputs": [
    {
     "data": {
      "text/plain": [
       "1943    8947876\n",
       "495     3773646\n",
       "1672    2862454\n",
       "1359    7345221\n",
       "Name: RawIntD, dtype: int64"
      ]
     },
     "execution_count": 25,
     "metadata": {},
     "output_type": "execute_result"
    }
   ],
   "source": [
    "# Normalize the training set\n",
    "mean = np.mean(y_train, axis=0)\n",
    "std = np.std(y_train, axis=0)\n",
    "y_train = (y_train - mean) / std\n",
    "\n",
    "# Normalize the test set\n",
    "y_test = (y_test - mean) / std\n"
   ]
  },
  {
   "cell_type": "code",
   "execution_count": 71,
   "metadata": {},
   "outputs": [
    {
     "name": "stdout",
     "output_type": "stream",
     "text": [
      "Epoch 1/34\n"
     ]
    },
    {
     "name": "stderr",
     "output_type": "stream",
     "text": [
      "2023-01-04 09:28:40.393141: I tensorflow/core/grappler/optimizers/custom_graph_optimizer_registry.cc:112] Plugin optimizer for device_type GPU is enabled.\n"
     ]
    },
    {
     "name": "stdout",
     "output_type": "stream",
     "text": [
      "2016/2016 [==============================] - 9s 4ms/step - loss: 60485127920742.0469 - accuracy: 0.0000e+00\n",
      "Epoch 2/34\n",
      "2016/2016 [==============================] - 8s 4ms/step - loss: 57046952840336.6875 - accuracy: 0.0000e+00\n",
      "Epoch 3/34\n",
      "2016/2016 [==============================] - 8s 4ms/step - loss: 56711291761925.4609 - accuracy: 0.0000e+00\n",
      "Epoch 4/34\n",
      "2016/2016 [==============================] - 8s 4ms/step - loss: 56709453876969.7891 - accuracy: 0.0000e+00\n",
      "Epoch 5/34\n",
      "2016/2016 [==============================] - 8s 4ms/step - loss: 59458360706323.6719 - accuracy: 0.0000e+00\n",
      "Epoch 6/34\n",
      "2016/2016 [==============================] - 8s 4ms/step - loss: 56721979646776.4766 - accuracy: 0.0000e+00\n",
      "Epoch 7/34\n",
      "2016/2016 [==============================] - 8s 4ms/step - loss: 59063826426906.9062 - accuracy: 0.0000e+00\n",
      "Epoch 8/34\n",
      "2016/2016 [==============================] - 8s 4ms/step - loss: 57100657320151.2578 - accuracy: 0.0000e+00\n",
      "Epoch 9/34\n",
      "2016/2016 [==============================] - 9s 4ms/step - loss: 58570435833346.2812 - accuracy: 0.0000e+00\n",
      "Epoch 10/34\n",
      "2016/2016 [==============================] - 8s 4ms/step - loss: 56571660611902.8281 - accuracy: 0.0000e+00\n",
      "Epoch 11/34\n",
      "2016/2016 [==============================] - 8s 4ms/step - loss: 57494235198961.0234 - accuracy: 0.0000e+00\n",
      "Epoch 12/34\n",
      "2016/2016 [==============================] - 8s 4ms/step - loss: 58074119252141.6250 - accuracy: 0.0000e+00\n",
      "Epoch 13/34\n",
      "2016/2016 [==============================] - 8s 4ms/step - loss: 59236498659495.5391 - accuracy: 0.0000e+00\n",
      "Epoch 14/34\n",
      "2016/2016 [==============================] - 8s 4ms/step - loss: 55288389690647.7344 - accuracy: 0.0000e+00\n",
      "Epoch 15/34\n",
      "2016/2016 [==============================] - 8s 4ms/step - loss: 57028267750474.6328 - accuracy: 0.0000e+00\n",
      "Epoch 16/34\n",
      "2016/2016 [==============================] - 8s 4ms/step - loss: 57762762445131.0078 - accuracy: 0.0000e+00\n",
      "Epoch 17/34\n",
      "2016/2016 [==============================] - 9s 4ms/step - loss: 54688360457999.3594 - accuracy: 0.0000e+00\n",
      "Epoch 18/34\n",
      "2016/2016 [==============================] - 8s 4ms/step - loss: 58286970000584.5391 - accuracy: 0.0000e+00\n",
      "Epoch 19/34\n",
      "2016/2016 [==============================] - 8s 4ms/step - loss: 59915350126488.4297 - accuracy: 0.0000e+00\n",
      "Epoch 20/34\n",
      "2016/2016 [==============================] - 8s 4ms/step - loss: 59717587559573.7656 - accuracy: 0.0000e+00\n",
      "Epoch 21/34\n",
      "2016/2016 [==============================] - 8s 4ms/step - loss: 57746470742173.3828 - accuracy: 0.0000e+00\n",
      "Epoch 22/34\n",
      "2016/2016 [==============================] - 8s 4ms/step - loss: 55337259475021.1719 - accuracy: 0.0000e+00\n",
      "Epoch 23/34\n",
      "2016/2016 [==============================] - 8s 4ms/step - loss: 58525441581969.8359 - accuracy: 0.0000e+00\n",
      "Epoch 24/34\n",
      "2016/2016 [==============================] - 8s 4ms/step - loss: 55279575810478.5156 - accuracy: 0.0000e+00\n",
      "Epoch 25/34\n",
      "2016/2016 [==============================] - 8s 4ms/step - loss: 56262057797529.4453 - accuracy: 0.0000e+00\n",
      "Epoch 26/34\n",
      "2016/2016 [==============================] - 9s 4ms/step - loss: 54787685773882.6406 - accuracy: 0.0000e+00\n",
      "Epoch 27/34\n",
      "2016/2016 [==============================] - 8s 4ms/step - loss: 59762904007110.8828 - accuracy: 0.0000e+00\n",
      "Epoch 28/34\n",
      "2016/2016 [==============================] - 9s 4ms/step - loss: 54951345552417.0000 - accuracy: 0.0000e+00\n",
      "Epoch 29/34\n",
      "2016/2016 [==============================] - 9s 4ms/step - loss: 56621862450145.0312 - accuracy: 0.0000e+00\n",
      "Epoch 30/34\n",
      "2016/2016 [==============================] - 9s 4ms/step - loss: 55472354180884.4375 - accuracy: 0.0000e+00\n",
      "Epoch 31/34\n",
      "2016/2016 [==============================] - 10s 5ms/step - loss: 58972703212600.3516 - accuracy: 0.0000e+00\n",
      "Epoch 32/34\n",
      "2016/2016 [==============================] - 8s 4ms/step - loss: 53725608084203.3125 - accuracy: 0.0000e+00\n",
      "Epoch 33/34\n",
      "2016/2016 [==============================] - 8s 4ms/step - loss: 52642783673726.2891 - accuracy: 0.0000e+00\n",
      "Epoch 34/34\n",
      "2016/2016 [==============================] - 10s 5ms/step - loss: 55745818966350.0547 - accuracy: 0.0000e+00\n",
      " 49/504 [=>............................] - ETA: 1s - loss: 64303998697472.0000 - accuracy: 0.0000e+00"
     ]
    },
    {
     "name": "stderr",
     "output_type": "stream",
     "text": [
      "2023-01-04 09:33:20.436121: I tensorflow/core/grappler/optimizers/custom_graph_optimizer_registry.cc:112] Plugin optimizer for device_type GPU is enabled.\n"
     ]
    },
    {
     "name": "stdout",
     "output_type": "stream",
     "text": [
      "504/504 [==============================] - 2s 3ms/step - loss: 57511449198592.0000 - accuracy: 0.0000e+00\n",
      "Test MSE: [57511449198592.0, 0.0]\n"
     ]
    }
   ],
   "source": [
    "# Define the model - deep neural net\n",
    "\n",
    "model = Sequential()\n",
    "model.add(Dense(64, input_dim=X.shape[1], activation=\"relu\"))\n",
    "model.add(Dense(32, activation=\"relu\"))\n",
    "model.add(Dense(1))\n",
    "\n",
    "# Compile the model\n",
    "model.compile(loss=\"mean_squared_error\", optimizer=\"adam\", metrics=['accuracy'])\n",
    "\n",
    "# Fit the model to the training data\n",
    "history = model.fit(X_train, y_train, epochs=34, batch_size=1)\n",
    "\n",
    "# Evaluate the model on the test data\n",
    "score = model.evaluate(X_test, y_test, batch_size=1)\n",
    "print(\"Test MSE:\", score)"
   ]
  },
  {
   "cell_type": "code",
   "execution_count": 68,
   "metadata": {},
   "outputs": [],
   "source": [
    "# Save the model\n",
    "model.save(\"model.h5\")"
   ]
  },
  {
   "cell_type": "code",
   "execution_count": 69,
   "metadata": {},
   "outputs": [
    {
     "name": "stderr",
     "output_type": "stream",
     "text": [
      "2023-01-04 09:27:39.212683: I tensorflow/core/grappler/optimizers/custom_graph_optimizer_registry.cc:112] Plugin optimizer for device_type GPU is enabled.\n"
     ]
    },
    {
     "data": {
      "image/png": "[encoded data removed]",
      "text/plain": [
       "<Figure size 432x288 with 1 Axes>"
      ]
     },
     "metadata": {
      "needs_background": "light"
     },
     "output_type": "display_data"
    }
   ],
   "source": [
    "# Use the model to predict the test data\n",
    "y_pred = model.predict(X_test)\n",
    "\n",
    "# Plot the predicted and actual values\n",
    "import matplotlib.pyplot as plt\n",
    "plt.scatter(y_test, y_pred)\n",
    "plt.xlabel(\"Actual values\")\n",
    "plt.ylabel(\"Predicted values\")\n",
    "plt.show()\n",
    "\n"
   ]
  },
  {
   "attachments": {},
   "cell_type": "markdown",
   "metadata": {},
   "source": [
    "## Plot the loss per epoch"
   ]
  },
  {
   "cell_type": "code",
   "execution_count": 70,
   "metadata": {},
   "outputs": [
    {
     "data": {
      "text/plain": [
       "Text(0, 0.5, 'Accuracy')"
      ]
     },
     "execution_count": 70,
     "metadata": {},
     "output_type": "execute_result"
    },
    {
     "data": {
      "image/png": "[encoded data removed]",
      "text/plain": [
       "<Figure size 432x288 with 2 Axes>"
      ]
     },
     "metadata": {
      "needs_background": "light"
     },
     "output_type": "display_data"
    }
   ],
   "source": [
    "import matplotlib.pyplot as plt\n",
    "\n",
    "# Get the loss values from the history object\n",
    "loss = history.history['loss']\n",
    "\n",
    "# Get the accuracy values from the history object\n",
    "acc = history.history['accuracy']\n",
    "\n",
    "# Create a figure with two subplots\n",
    "fig, (ax1, ax2) = plt.subplots(2, 1)\n",
    "\n",
    "# Plot the loss values on the first subplot\n",
    "ax1.plot(loss)\n",
    "ax1.set_title('Loss per epoch')\n",
    "ax1.set_xlabel('Epoch')\n",
    "ax1.set_ylabel('Loss')\n",
    "\n",
    "# Plot the accuracy values on the second subplot\n",
    "ax2.plot(acc)\n",
    "ax2.set_title('Accuracy per epoch')\n",
    "ax2.set_xlabel('Epoch')\n",
    "ax2.set_ylabel('Accuracy')"
   ]
  },
  {
   "cell_type": "code",
   "execution_count": 64,
   "metadata": {},
   "outputs": [
    {
     "data": {
      "text/plain": [
       "[0.0, 0.0, 0.0, 0.0, 0.0, 0.0, 0.0, 0.0, 0.0, 0.0]"
      ]
     },
     "execution_count": 64,
     "metadata": {},
     "output_type": "execute_result"
    }
   ],
   "source": [
    "history.history['accuracy']"
   ]
  }
 ],
 "metadata": {
  "kernelspec": {
   "display_name": "tensorflow",
   "language": "python",
   "name": "python3"
  },
  "language_info": {
   "codemirror_mode": {
    "name": "ipython",
    "version": 3
   },
   "file_extension": ".py",
   "mimetype": "text/x-python",
   "name": "python",
   "nbconvert_exporter": "python",
   "pygments_lexer": "ipython3",
   "version": "3.9.12"
  },
  "orig_nbformat": 4,
  "vscode": {
   "interpreter": {
    "hash": "4bd624a0593993fe43ac4046b27b898fb2ef75c21c08f81e89e64ea0f51df676"
   }
  }
 },
 "nbformat": 4,
 "nbformat_minor": 2
}
